{
 "cells": [
  {
   "cell_type": "markdown",
   "id": "8fd284cc-8a23-4864-92da-ae76b95afffd",
   "metadata": {},
   "source": [
    "<center>\n",
    "    <img src=\"https://cf-courses-data.s3.us.cloud-object-storage.appdomain.cloud/IBMDeveloperSkillsNetwork-DS0105EN-SkillsNetwork/labs/Module2/images/SN_web_lightmode.png\" width=\"300\" alt=\"cognitiveclass.ai logo\">\n",
    "</center>\n"
   ]
  },
  {
   "cell_type": "markdown",
   "id": "9480af90-682d-4398-97b2-36f588b67340",
   "metadata": {},
   "source": [
    "## *Exercise 1: Create a Jupyter Notebook*\n",
    "\n",
    " *Create a new Jupyter notebook called DataScienceEcosystem.ipynb*"
   ]
  },
  {
   "cell_type": "markdown",
   "id": "fc9fbe01-ec11-4d21-b738-494e66752879",
   "metadata": {},
   "source": [
    "## *Exercise 2: Create markdown cell with title of the notebook*"
   ]
  },
  {
   "cell_type": "markdown",
   "id": "21b9a65d-6b8e-42cf-9f39-d638e0c1c718",
   "metadata": {},
   "source": [
    "# Data Science Tools and Ecosystem"
   ]
  },
  {
   "cell_type": "markdown",
   "id": "9dadd329-c9a5-45f9-b3c7-dfccaf20d4c7",
   "metadata": {},
   "source": [
    "## *Exercise 3 - Create a markdown cell for an introduction*"
   ]
  },
  {
   "cell_type": "markdown",
   "id": "b6a080aa-3bf4-4b7a-a8a7-384aa9bd2755",
   "metadata": {},
   "source": [
    "In this notebook, Data Science Tools and Ecosystem are summarized."
   ]
  },
  {
   "cell_type": "markdown",
   "id": "47705294-1d1f-48dd-a074-fb17332f8e9b",
   "metadata": {},
   "source": [
    "## *Exercise 10 - Insert a markdown cell to list Objectives*"
   ]
  },
  {
   "cell_type": "markdown",
   "id": "10d9a8f9-669e-4336-a3a4-cace59286a85",
   "metadata": {},
   "source": [
    "**Objectives:**\n",
    "\n",
    "- List some of the most popular programming languages\n",
    "- List libraries used by data scientists\n",
    "- Demonstrate how to perform simple arithmetic in Python\n"
   ]
  },
  {
   "cell_type": "markdown",
   "id": "1e1aa609-f35b-4f0b-98be-a6d3e4a322b7",
   "metadata": {
    "tags": []
   },
   "source": [
    "## *Exercise 4 - Create a markdown cell to list data science languages*"
   ]
  },
  {
   "cell_type": "markdown",
   "id": "702989ea-9cbe-4890-b2bd-afd3b2912ae7",
   "metadata": {},
   "source": [
    "Some of the popular languages that Data Scientists use are:\n",
    "    \n",
    "    1. R\n",
    "    2. Python\n",
    "    3. Julia\n",
    "    4. C\n",
    "    5. C++\n",
    "    6. JavaScript\n",
    "    7. Scala\n",
    "    "
   ]
  },
  {
   "cell_type": "markdown",
   "id": "297e76a0-57b0-4e14-a1a0-f620984c49c9",
   "metadata": {},
   "source": [
    "## *Exercise 5 - Create a markdown cell to list data science libraries*"
   ]
  },
  {
   "cell_type": "markdown",
   "id": "78373da7-2f46-4f26-8bd9-31ff4fbfdd3e",
   "metadata": {},
   "source": [
    "Some of the commonly used libraries used by Data Scientists include:\n",
    "    \n",
    "    1. Pandas\n",
    "    2. Seaborn\n",
    "    3. NumPy\n",
    "    4. Pytorch"
   ]
  },
  {
   "cell_type": "markdown",
   "id": "2487a9ba-1c32-468c-a208-d842e535ed1f",
   "metadata": {
    "tags": []
   },
   "source": [
    "## *Exercise 6 - Create a markdown cell with a table of Data Science tools*"
   ]
  },
  {
   "cell_type": "markdown",
   "id": "aac5cde9-239c-4fb6-bf9b-4c5146a68cb3",
   "metadata": {},
   "source": [
    "Data Science Tools |\n",
    "------------------\n",
    "JupiterNotebook|\n",
    "Rstudio|\n",
    "Spyder|"
   ]
  },
  {
   "cell_type": "markdown",
   "id": "975f30f6-6e2d-4b33-8426-4c12f9369134",
   "metadata": {},
   "source": [
    "## *Exercise 7 - Create a markdown cell introducing arithmetic expression examples*"
   ]
  },
  {
   "cell_type": "markdown",
   "id": "eefa805b-353f-4804-90d6-1e932271ecfe",
   "metadata": {},
   "source": [
    "### Below are a few examples of evaluating arithmetic expressions in Python"
   ]
  },
  {
   "cell_type": "markdown",
   "id": "5a87158b-0e7f-4f64-830e-567d8b18011d",
   "metadata": {},
   "source": [
    "## *Exercise 8 - Create a code cell to multiply and add numbers*"
   ]
  },
  {
   "cell_type": "code",
   "execution_count": 1,
   "id": "b8eef39c-d5e8-46b5-9f08-f3fda73c4d0d",
   "metadata": {
    "tags": []
   },
   "outputs": [],
   "source": [
    "# This a simple arithmetic expression to mutiply then add integers"
   ]
  },
  {
   "cell_type": "code",
   "execution_count": 2,
   "id": "051ace41-4a64-4340-9cb7-47df0d184768",
   "metadata": {
    "tags": []
   },
   "outputs": [
    {
     "data": {
      "text/plain": [
       "17"
      ]
     },
     "execution_count": 2,
     "metadata": {},
     "output_type": "execute_result"
    }
   ],
   "source": [
    "(3*4)+5"
   ]
  },
  {
   "cell_type": "markdown",
   "id": "840485a6-090c-45ad-bcca-cca5b1ee07eb",
   "metadata": {
    "tags": []
   },
   "source": [
    "## *Exercise 9 - Create a code cell to convert minutes to hours*"
   ]
  },
  {
   "cell_type": "code",
   "execution_count": 4,
   "id": "c9132821-c3a3-405f-9967-2fb341c4e90c",
   "metadata": {
    "tags": []
   },
   "outputs": [],
   "source": [
    "# This will convert 200 minutes to hours by diving by 60"
   ]
  },
  {
   "cell_type": "code",
   "execution_count": 5,
   "id": "8e8d5ae9-f3cf-4761-bcd4-f73c302b4f2f",
   "metadata": {
    "tags": []
   },
   "outputs": [
    {
     "data": {
      "text/plain": [
       "3.3333333333333335"
      ]
     },
     "execution_count": 5,
     "metadata": {},
     "output_type": "execute_result"
    }
   ],
   "source": [
    "200/60"
   ]
  },
  {
   "cell_type": "markdown",
   "id": "75fb8d0c-6139-432a-83d2-a95ac1286c58",
   "metadata": {},
   "source": [
    "## *Exercise 11 - Create a markdown cell to indicate the Author's name*"
   ]
  },
  {
   "cell_type": "markdown",
   "id": "369d82b0-fc00-4995-a723-bc79f3c16c49",
   "metadata": {},
   "source": [
    "## Author"
   ]
  },
  {
   "cell_type": "markdown",
   "id": "142013da-a48e-4033-9535-a5b042bf37aa",
   "metadata": {},
   "source": [
    "Dessie Fitzgerald"
   ]
  },
  {
   "cell_type": "markdown",
   "id": "4c77730e-2e38-4516-acb2-2ef24ddfb4ce",
   "metadata": {},
   "source": [
    "## *Exercise 12 - Share your notebook through GitHub*"
   ]
  }
 ],
 "metadata": {
  "kernelspec": {
   "display_name": "Python",
   "language": "python",
   "name": "conda-env-python-py"
  },
  "language_info": {
   "codemirror_mode": {
    "name": "ipython",
    "version": 3
   },
   "file_extension": ".py",
   "mimetype": "text/x-python",
   "name": "python",
   "nbconvert_exporter": "python",
   "pygments_lexer": "ipython3",
   "version": "3.7.12"
  }
 },
 "nbformat": 4,
 "nbformat_minor": 5
}
