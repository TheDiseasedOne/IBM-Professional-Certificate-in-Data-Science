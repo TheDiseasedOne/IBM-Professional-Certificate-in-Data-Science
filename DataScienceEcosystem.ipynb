{
 "cells": [
  {
   "cell_type": "markdown",
   "id": "21b9a65d-6b8e-42cf-9f39-d638e0c1c718",
   "metadata": {},
   "source": [
    "# Data Science Tools and Ecosystem"
   ]
  },
  {
   "cell_type": "markdown",
   "id": "b6a080aa-3bf4-4b7a-a8a7-384aa9bd2755",
   "metadata": {},
   "source": [
    "In this notebook, Data Science Tools and Ecosystem are summarized."
   ]
  },
  {
   "cell_type": "markdown",
   "id": "10d9a8f9-669e-4336-a3a4-cace59286a85",
   "metadata": {},
   "source": [
    "**Objectives:**\n",
    "\n",
    "- List some of the most popular programming languages\n",
    "- List libraries used by data scientists\n",
    "- Demonstrate how to perform simple arithmetic in Python\n"
   ]
  },
  {
   "cell_type": "markdown",
   "id": "702989ea-9cbe-4890-b2bd-afd3b2912ae7",
   "metadata": {},
   "source": [
    "Some of the popular languages that Data Scientists use are:\n",
    "    \n",
    "    1. R\n",
    "    2. Python\n",
    "    3. Julia\n",
    "    4. C\n",
    "    5. C++\n",
    "    6. JavaScript\n",
    "    7. Scala\n",
    "    "
   ]
  },
  {
   "cell_type": "markdown",
   "id": "78373da7-2f46-4f26-8bd9-31ff4fbfdd3e",
   "metadata": {},
   "source": [
    "Some of the commonly used libraries used by Data Scientists include:\n",
    "    \n",
    "    1. Pandas\n",
    "    2. Seaborn\n",
    "    3. NumPy\n",
    "    4. Pytorch"
   ]
  },
  {
   "cell_type": "markdown",
   "id": "aac5cde9-239c-4fb6-bf9b-4c5146a68cb3",
   "metadata": {},
   "source": [
    "Data Science Tools |\n",
    "------------------\n",
    "JupiterNotebook|\n",
    "Rstudio|\n",
    "Spyder|"
   ]
  },
  {
   "cell_type": "markdown",
   "id": "eefa805b-353f-4804-90d6-1e932271ecfe",
   "metadata": {},
   "source": [
    "### Below are a few examples of evaluating arithmetic expressions in Python"
   ]
  },
  {
   "cell_type": "code",
   "execution_count": 1,
   "id": "b8eef39c-d5e8-46b5-9f08-f3fda73c4d0d",
   "metadata": {
    "tags": []
   },
   "outputs": [],
   "source": [
    "# This a simple arithmetic expression to mutiply then add integers"
   ]
  },
  {
   "cell_type": "code",
   "execution_count": 2,
   "id": "051ace41-4a64-4340-9cb7-47df0d184768",
   "metadata": {
    "tags": []
   },
   "outputs": [
    {
     "data": {
      "text/plain": [
       "17"
      ]
     },
     "execution_count": 2,
     "metadata": {},
     "output_type": "execute_result"
    }
   ],
   "source": [
    "(3*4)+5"
   ]
  },
  {
   "cell_type": "code",
   "execution_count": 4,
   "id": "c9132821-c3a3-405f-9967-2fb341c4e90c",
   "metadata": {
    "tags": []
   },
   "outputs": [],
   "source": [
    "# This will convert 200 minutes to hours by diving by 60"
   ]
  },
  {
   "cell_type": "code",
   "execution_count": 5,
   "id": "8e8d5ae9-f3cf-4761-bcd4-f73c302b4f2f",
   "metadata": {
    "tags": []
   },
   "outputs": [
    {
     "data": {
      "text/plain": [
       "3.3333333333333335"
      ]
     },
     "execution_count": 5,
     "metadata": {},
     "output_type": "execute_result"
    }
   ],
   "source": [
    "200/60"
   ]
  },
  {
   "cell_type": "markdown",
   "id": "369d82b0-fc00-4995-a723-bc79f3c16c49",
   "metadata": {},
   "source": [
    "## Author"
   ]
  },
  {
   "cell_type": "markdown",
   "id": "142013da-a48e-4033-9535-a5b042bf37aa",
   "metadata": {},
   "source": [
    "Dessie Fitzgerald"
   ]
  },
  {
   "cell_type": "code",
   "execution_count": null,
   "id": "0a81c1f0-e7ce-46d6-aa63-1b05b8deea4a",
   "metadata": {},
   "outputs": [],
   "source": []
  }
 ],
 "metadata": {
  "kernelspec": {
   "display_name": "Python",
   "language": "python",
   "name": "conda-env-python-py"
  },
  "language_info": {
   "codemirror_mode": {
    "name": "ipython",
    "version": 3
   },
   "file_extension": ".py",
   "mimetype": "text/x-python",
   "name": "python",
   "nbconvert_exporter": "python",
   "pygments_lexer": "ipython3",
   "version": "3.7.12"
  }
 },
 "nbformat": 4,
 "nbformat_minor": 5
}
